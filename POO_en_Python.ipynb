{
 "cells": [
  {
   "cell_type": "markdown",
   "metadata": {},
   "source": [
    "# Programación Orientada a Objetos"
   ]
  },
  {
   "cell_type": "markdown",
   "metadata": {},
   "source": [
    "La programación orientada a objetos tiene:\n",
    "- Atributos o propiedades\n",
    "- Métodos o funciones"
   ]
  },
  {
   "cell_type": "markdown",
   "metadata": {},
   "source": [
    "**Ejemplo:** De un Auto\n",
    "\n",
    "**Elementos:**\n",
    "- **Objeto:** Auto\n",
    "- **Atributos:** Color, Modelo, etc.\n",
    "- **Métodos:** Encender, Apagar, etc."
   ]
  },
  {
   "cell_type": "code",
   "execution_count": 2,
   "metadata": {},
   "outputs": [],
   "source": [
    "# Sintaxis\n",
    "# class nombre_clase:\n",
    "#       acciones\n",
    "class Auto:\n",
    "    pass\n",
    "\n",
    "# Aquí vamos a crear los objetos o instancias\n",
    "# Sintaxis\n",
    "# variable = nombre_clase()\n",
    "cochecito = Auto()\n",
    "    \n",
    "# Aignando atributos\n",
    "# nombre_Abjeto.nombre_Atributo = Valor\n",
    "cochecito.color = \"Rojo\"\n",
    "cochecito.modelo = 1990\n",
    "cochecito.puertas = 4\n",
    "cochecito.llantas = 4\n",
    "cochecito.velocidades = 5"
   ]
  },
  {
   "cell_type": "code",
   "execution_count": null,
   "metadata": {},
   "outputs": [],
   "source": []
  },
  {
   "cell_type": "code",
   "execution_count": 6,
   "metadata": {},
   "outputs": [
    {
     "name": "stdout",
     "output_type": "stream",
     "text": [
      "Color: Rojo\n",
      "Modelo: 1990\n",
      "Puertas: 4\n",
      "Llantas: 4\n",
      "Velocidades: 5\n"
     ]
    }
   ],
   "source": [
    "# Mostramos los resultados de los atributos del objeto cochecito\n",
    "print(\"Color:\", cochecito.color)\n",
    "print(\"Modelo:\", cochecito.modelo)\n",
    "print(\"Puertas:\", cochecito.puertas)\n",
    "print(\"Llantas:\", cochecito.llantas)\n",
    "print(\"Velocidades:\", cochecito.velocidades)"
   ]
  },
  {
   "cell_type": "code",
   "execution_count": null,
   "metadata": {},
   "outputs": [],
   "source": [
    "# Creando métodos\n",
    "# Sintaxis\n",
    "# def nombre_metodo(self):\n",
    "#          acciones\n",
    "def mostrarDatos(self):\n",
    "    print(\"Color:\", self.color)\n",
    "    print(\"Modelo:\", cochecito.modelo)\n",
    "    print(\"Puertas:\", cochecito.puertas)\n",
    "    print(\"Llantas:\", cochecito.llantas)\n",
    "    print(\"Velocidades:\", cochecito.velocidades)"
   ]
  },
  {
   "cell_type": "code",
   "execution_count": 8,
   "metadata": {},
   "outputs": [
    {
     "name": "stdout",
     "output_type": "stream",
     "text": [
      "Color: Azul\n",
      "Modelo: 1990\n",
      "Puertas: 2\n",
      "Llantas: 4\n",
      "Velocidades: 6\n"
     ]
    }
   ],
   "source": [
    "# Sintaxis\n",
    "# class nombre_clase:\n",
    "#       acciones\n",
    "class Auto:\n",
    "    # Aignando atributos\n",
    "    # nombre_Abjeto.nombre_Atributo = Valor\n",
    "    color = \"\"\n",
    "    modelo = 0\n",
    "    puertas = 0\n",
    "    llantas = 0\n",
    "    velocidades = 0\n",
    "    \n",
    "    # Creando métodos\n",
    "    # Sintaxis\n",
    "    # def nombre_metodo(self):\n",
    "    #          acciones\n",
    "    def mostrarDatos(self):\n",
    "        print(\"Color:\", self.color)\n",
    "        print(\"Modelo:\", self.modelo)\n",
    "        print(\"Puertas:\", self.puertas)\n",
    "        print(\"Llantas:\", self.llantas)\n",
    "        print(\"Velocidades:\", self.velocidades)\n",
    "    \n",
    "# Aquí vamos a crear los objetos o instancias\n",
    "# Sintaxis\n",
    "# variable = nombre_clase()\n",
    "cochecito = Auto()\n",
    "    \n",
    "# Aquí asignamos valores a los atributos\n",
    "cochecito.color = \"Azul\"\n",
    "cochecito.modelo = 1990\n",
    "cochecito.llantas = 4\n",
    "cochecito.puertas = 2\n",
    "cochecito.velocidades = 6\n",
    "cochecito.mostrarDatos()"
   ]
  },
  {
   "cell_type": "code",
   "execution_count": 12,
   "metadata": {},
   "outputs": [
    {
     "name": "stdout",
     "output_type": "stream",
     "text": [
      "Color: Azul\n",
      "Modelo: 1990\n",
      "Puertas: 2\n",
      "Llantas: 4\n",
      "Velocidades: 6\n",
      "El Auto se Encendió\n",
      "El Auto esta acelerando a una velocidad de 0 a 10 km/h\n",
      "El Auto esta acelerando a una velocidad de 2 a 10 km/h\n",
      "El Auto esta acelerando a una velocidad de 4 a 10 km/h\n",
      "El Auto esta acelerando a una velocidad de 6 a 10 km/h\n",
      "El Auto esta acelerando a una velocidad de 8 a 10 km/h\n",
      "El auto llego a la Velocidad de 10 Km/h\n",
      "El auto esta frenando, el odómetro en: 120 Km/h\n",
      "El auto esta frenando, el odómetro en: 118 Km/h\n",
      "El auto esta frenando, el odómetro en: 116 Km/h\n",
      "El auto esta frenando, el odómetro en: 114 Km/h\n",
      "El auto esta frenando, el odómetro en: 112 Km/h\n",
      "El auto esta frenando, el odómetro en: 110 Km/h\n",
      "El auto esta frenando, el odómetro en: 108 Km/h\n",
      "El auto esta frenando, el odómetro en: 106 Km/h\n",
      "El auto esta frenando, el odómetro en: 104 Km/h\n",
      "El auto esta frenando, el odómetro en: 102 Km/h\n",
      "El auto bajo a la velocidad de: 100\n"
     ]
    }
   ],
   "source": [
    "# Sintaxis\n",
    "# class nombre_clase:\n",
    "#       acciones\n",
    "import time\n",
    "class Auto:\n",
    "    # Aignando atributos\n",
    "    # nombre_Abjeto.nombre_Atributo = Valor\n",
    "    color = \"\"\n",
    "    modelo = 0\n",
    "    puertas = 0\n",
    "    llantas = 0\n",
    "    velocidades = 0\n",
    "    \n",
    "    # Creando métodos\n",
    "    # Sintaxis\n",
    "    # def nombre_metodo(self):\n",
    "    #          acciones\n",
    "    def mostrarDatos(self):\n",
    "        print(\"Color:\", self.color)\n",
    "        print(\"Modelo:\", self.modelo)\n",
    "        print(\"Puertas:\", self.puertas)\n",
    "        print(\"Llantas:\", self.llantas)\n",
    "        print(\"Velocidades:\", self.velocidades)\n",
    "    \n",
    "    def encender(self):\n",
    "        print(\"El Auto se Encendió\")\n",
    "    \n",
    "    def apagar(self):\n",
    "        print(\"El Auto se Apago\")\n",
    "    \n",
    "    def acelerar(self, velocidad):\n",
    "        for i in range(0, velocidad, 2):\n",
    "            print(\"El Auto esta acelerando a una velocidad de\", i, \"a\", velocidad, \"km/h\")\n",
    "            time.sleep(0.1)\n",
    "        print(\"El auto llego a la Velocidad de\", velocidad, \"Km/h\")\n",
    "        \n",
    "    def frenar(self, velocidad, frenado):\n",
    "        for i in range(velocidad, frenado, -2):\n",
    "            print(\"El auto esta frenando, el odómetro en:\", i, \"Km/h\")\n",
    "            time.sleep(0.1)\n",
    "        print(\"El auto bajo a la velocidad de:\", frenado)\n",
    "    \n",
    "# Aquí vamos a crear los objetos o instancias\n",
    "# Sintaxis\n",
    "# variable = nombre_clase()\n",
    "cochecito = Auto()\n",
    "    \n",
    "# Aquí asignamos valores a los atributos\n",
    "cochecito.color = \"Azul\"\n",
    "cochecito.modelo = 1990\n",
    "cochecito.llantas = 4\n",
    "cochecito.puertas = 2\n",
    "cochecito.velocidades = 6\n",
    "cochecito.mostrarDatos()\n",
    "cochecito.encender()\n",
    "cochecito.acelerar(10)\n",
    "cochecito.frenar(120, 100)"
   ]
  },
  {
   "cell_type": "code",
   "execution_count": 17,
   "metadata": {},
   "outputs": [
    {
     "name": "stdout",
     "output_type": "stream",
     "text": [
      "Color: Rojo\n",
      "Modelo: 1990\n",
      "Llantas: 4\n",
      "Puertas: 5\n",
      "Velocidad: 8\n"
     ]
    }
   ],
   "source": [
    "# Sintaxis\n",
    "# class nombre_clase:\n",
    "#       acciones\n",
    "import time\n",
    "class Auto:\n",
    "    # Aignando atributos\n",
    "    # nombre_Abjeto.nombre_Atributo = Valor\n",
    "    color = \"\"\n",
    "    modelo = 0\n",
    "    puertas = 0\n",
    "    llantas = 0\n",
    "    velocidades = 0\n",
    "    \n",
    "    # Definiendo el método de inicializacion (Constructor)\n",
    "    def __init__(self, col, model, llant, puer, velo):\n",
    "        self.color = col\n",
    "        self.modelo = model\n",
    "        self.llantas = llant\n",
    "        self.puertas = puer\n",
    "        self.velocidad = velo\n",
    "                   \n",
    "    # Creando métodos\n",
    "    # Sintaxis\n",
    "    # def nombre_metodo(self):\n",
    "    #          acciones\n",
    "    def mostrarDatos(self):\n",
    "        print(\"Color:\", self.color)\n",
    "        print(\"Modelo:\", self.modelo)\n",
    "        print(\"Llantas:\", self.llantas)\n",
    "        print(\"Puertas:\", self.puertas)\n",
    "        print(\"Velocidad:\", self.velocidad)\n",
    "    \n",
    "   \n",
    "# Aquí vamos a crear los objetos o instancias\n",
    "# Sintaxis\n",
    "# variable = nombre_clase()\n",
    "cochecito = Auto(\"Rojo\", 1990,4,5,8)\n",
    "    \n",
    "# Aquí asignamos valores a los atributos\n",
    "cochecito.mostrarDatos()\n"
   ]
  }
 ],
 "metadata": {
  "kernelspec": {
   "display_name": "Python 3",
   "language": "python",
   "name": "python3"
  },
  "language_info": {
   "codemirror_mode": {
    "name": "ipython",
    "version": 3
   },
   "file_extension": ".py",
   "mimetype": "text/x-python",
   "name": "python",
   "nbconvert_exporter": "python",
   "pygments_lexer": "ipython3",
   "version": "3.6.4"
  }
 },
 "nbformat": 4,
 "nbformat_minor": 2
}
