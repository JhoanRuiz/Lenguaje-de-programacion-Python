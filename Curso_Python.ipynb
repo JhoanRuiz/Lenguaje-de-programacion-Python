{
 "cells": [
  {
   "cell_type": "markdown",
   "metadata": {},
   "source": [
    "# Curso de Python"
   ]
  },
  {
   "cell_type": "markdown",
   "metadata": {},
   "source": [
    "## ¿Qué es Python?"
   ]
  },
  {
   "cell_type": "markdown",
   "metadata": {},
   "source": [
    "Python es un lenguaje de programación\n",
    "- Interpretado\n",
    "- Multiparadigma\n",
    "- Tipado dinámico\n",
    "- Sintaxis de código legible\n",
    "- Multi plataforma"
   ]
  },
  {
   "cell_type": "markdown",
   "metadata": {},
   "source": [
    "## ¿Por qué aprender Python?"
   ]
  },
  {
   "cell_type": "markdown",
   "metadata": {},
   "source": [
    "- Curva de aprendizaje baja\n",
    "- Reglas de sintaxis simples\n",
    "- Útil para mcuhas ocaciones"
   ]
  },
  {
   "cell_type": "markdown",
   "metadata": {},
   "source": [
    "# Variables"
   ]
  },
  {
   "cell_type": "code",
   "execution_count": 2,
   "metadata": {},
   "outputs": [
    {
     "name": "stdout",
     "output_type": "stream",
     "text": [
      "Hola soy un string\n"
     ]
    }
   ],
   "source": [
    "# Variable de string\n",
    "string = \"Hola soy un string\"\n",
    "print(string)"
   ]
  },
  {
   "cell_type": "code",
   "execution_count": 3,
   "metadata": {},
   "outputs": [
    {
     "name": "stdout",
     "output_type": "stream",
     "text": [
      "Hola estoy cambiando el valor\n"
     ]
    }
   ],
   "source": [
    "# Cambiando el valor de la variable string\n",
    "string = \"Hola estoy cambiando el valor\"\n",
    "print(string)"
   ]
  },
  {
   "cell_type": "code",
   "execution_count": 4,
   "metadata": {},
   "outputs": [
    {
     "name": "stdout",
     "output_type": "stream",
     "text": [
      "1 2 3\n"
     ]
    }
   ],
   "source": [
    "# Asignando valor a 3 variables de una sola sentencia\n",
    "a, b, c = 1, 2, 3\n",
    "print(a,b,c)"
   ]
  },
  {
   "cell_type": "code",
   "execution_count": 7,
   "metadata": {},
   "outputs": [
    {
     "name": "stdout",
     "output_type": "stream",
     "text": [
      "El valor de las tres variables a, b y c son:  1 2 3\n"
     ]
    }
   ],
   "source": [
    "# Asignando valor a 3 variables de una sola sentencia\n",
    "a, b, c = 1, 2, 3\n",
    "print('El valor de las tres variables a, b y c son: ', a,b,c)"
   ]
  },
  {
   "cell_type": "code",
   "execution_count": 8,
   "metadata": {},
   "outputs": [],
   "source": [
    "# del permite eliminar variables\n",
    "del a, b, c"
   ]
  },
  {
   "cell_type": "code",
   "execution_count": 10,
   "metadata": {},
   "outputs": [
    {
     "ename": "NameError",
     "evalue": "name 'a' is not defined",
     "output_type": "error",
     "traceback": [
      "\u001b[1;31m---------------------------------------------------------------------------\u001b[0m",
      "\u001b[1;31mNameError\u001b[0m                                 Traceback (most recent call last)",
      "\u001b[1;32m<ipython-input-10-bddf87e956e1>\u001b[0m in \u001b[0;36m<module>\u001b[1;34m()\u001b[0m\n\u001b[0;32m      1\u001b[0m \u001b[1;31m# Se ve que se ha borrado la variable a\u001b[0m\u001b[1;33m\u001b[0m\u001b[1;33m\u001b[0m\u001b[0m\n\u001b[1;32m----> 2\u001b[1;33m \u001b[0ma\u001b[0m\u001b[1;33m\u001b[0m\u001b[0m\n\u001b[0m",
      "\u001b[1;31mNameError\u001b[0m: name 'a' is not defined"
     ]
    }
   ],
   "source": [
    "# Se ve que se ha borrado la variable a\n",
    "a"
   ]
  },
  {
   "cell_type": "code",
   "execution_count": 12,
   "metadata": {},
   "outputs": [],
   "source": [
    "# Los 3 tipos de datos básicos que se encontraran\n",
    "string = \"Cadena de texto\"\n",
    "integer = 12\n",
    "float = 3.14 "
   ]
  },
  {
   "cell_type": "markdown",
   "metadata": {},
   "source": [
    "- **str():** Sirve para convertir un número en texto\n",
    "- **int():** Sirve para convertir un texto en un número"
   ]
  },
  {
   "cell_type": "code",
   "execution_count": 13,
   "metadata": {},
   "outputs": [
    {
     "ename": "TypeError",
     "evalue": "must be str, not int",
     "output_type": "error",
     "traceback": [
      "\u001b[1;31m---------------------------------------------------------------------------\u001b[0m",
      "\u001b[1;31mTypeError\u001b[0m                                 Traceback (most recent call last)",
      "\u001b[1;32m<ipython-input-13-ebb676f60318>\u001b[0m in \u001b[0;36m<module>\u001b[1;34m()\u001b[0m\n\u001b[0;32m      1\u001b[0m \u001b[1;31m# Como concatenar\u001b[0m\u001b[1;33m\u001b[0m\u001b[1;33m\u001b[0m\u001b[0m\n\u001b[1;32m----> 2\u001b[1;33m \u001b[0mconcatenar\u001b[0m \u001b[1;33m=\u001b[0m \u001b[0mstring\u001b[0m \u001b[1;33m+\u001b[0m \u001b[0minteger\u001b[0m \u001b[1;33m+\u001b[0m \u001b[0mfloat\u001b[0m\u001b[1;33m\u001b[0m\u001b[0m\n\u001b[0m\u001b[0;32m      3\u001b[0m \u001b[0mprint\u001b[0m\u001b[1;33m(\u001b[0m\u001b[0mconcatenar\u001b[0m\u001b[1;33m)\u001b[0m\u001b[1;33m\u001b[0m\u001b[0m\n",
      "\u001b[1;31mTypeError\u001b[0m: must be str, not int"
     ]
    }
   ],
   "source": [
    "# Como concatenar\n",
    "concatenar = string + integer + float\n",
    "print(concatenar)"
   ]
  },
  {
   "cell_type": "code",
   "execution_count": 14,
   "metadata": {},
   "outputs": [
    {
     "name": "stdout",
     "output_type": "stream",
     "text": [
      "Cadena de texto123.14\n"
     ]
    }
   ],
   "source": [
    "# Como concatenar, pero convirtiendo con str un entero en texto\n",
    "concatenar = string + str(integer) + str(float)\n",
    "print(concatenar)"
   ]
  },
  {
   "cell_type": "code",
   "execution_count": 15,
   "metadata": {},
   "outputs": [
    {
     "name": "stdout",
     "output_type": "stream",
     "text": [
      "Cadena de texto 12 3.14\n"
     ]
    }
   ],
   "source": [
    "# Como concatenar, pero convirtiendo con str un entero en texto,\n",
    "# Se parado con especio\n",
    "concatenar = string +\" \"+ str(integer) +\" \"+ str(float)\n",
    "print(concatenar)"
   ]
  },
  {
   "cell_type": "code",
   "execution_count": 20,
   "metadata": {},
   "outputs": [
    {
     "name": "stdout",
     "output_type": "stream",
     "text": [
      "El total es: 2\n"
     ]
    }
   ],
   "source": [
    "# Ejemplo con int()\n",
    "string = \"1\"\n",
    "integer = 1\n",
    "\n",
    "total = int(string) + integer\n",
    "print(\"El total es:\",total)"
   ]
  },
  {
   "cell_type": "markdown",
   "metadata": {},
   "source": [
    "# Manejar Strings"
   ]
  },
  {
   "cell_type": "code",
   "execution_count": 23,
   "metadata": {},
   "outputs": [
    {
     "name": "stdout",
     "output_type": "stream",
     "text": [
      "Tutorial \"python\"\n"
     ]
    }
   ],
   "source": [
    "# Strings\n",
    "cadena = 'Tutorial \\\"python\"'\n",
    "print(cadena)"
   ]
  },
  {
   "cell_type": "code",
   "execution_count": 44,
   "metadata": {},
   "outputs": [
    {
     "name": "stdout",
     "output_type": "stream",
     "text": [
      "Extraer un solo caracter: a\n",
      "Extrae un substring: Hol\n",
      "Extrae un substring desde la posición indicada hasta el final: la Mundo\n",
      "Muestra 3 veces el string seleccionado:  Hola MundoHola MundoHola Mundo\n"
     ]
    }
   ],
   "source": [
    "# Indices de la cadena de texto con []\n",
    "saludo = \"Hola Mundo\"\n",
    "print(\"Extraer un solo caracter:\",saludo[3])\n",
    "print(\"Extrae un substring:\", saludo[0:3]) \n",
    "print(\"Extrae un substring desde la posición indicada hasta el final:\",saludo[2:])\n"
   ]
  },
  {
   "cell_type": "code",
   "execution_count": 48,
   "metadata": {},
   "outputs": [
    {
     "name": "stdout",
     "output_type": "stream",
     "text": [
      "Muestra 3 veces el string seleccionado:  Hola MundoHola MundoHola Mundo\n",
      "Hola Mundo\n",
      "Hola Mundo Python \n"
     ]
    }
   ],
   "source": [
    "# Concatenar una cadena\n",
    "print(\"Muestra 3 veces el string seleccionado: \", saludo * 3)\n",
    "print(\"Hola \" + \"Mundo\")\n",
    "variable = \"Hola \"\n",
    "variable += \"Mundo \"\n",
    "variable += \"Python \"\n",
    "print(variable)"
   ]
  },
  {
   "cell_type": "markdown",
   "metadata": {},
   "source": [
    "# Operadores aritméticos"
   ]
  },
  {
   "cell_type": "code",
   "execution_count": 51,
   "metadata": {},
   "outputs": [
    {
     "name": "stdout",
     "output_type": "stream",
     "text": [
      "La suma de 10 y 5 es igual a: 15\n"
     ]
    }
   ],
   "source": [
    "# Suma\n",
    "numero1 = 10\n",
    "numero2 = 5\n",
    "total = numero1 + numero2\n",
    "print(\"La suma de\", numero1, \"y\", numero2, \"es igual a:\", total)"
   ]
  },
  {
   "cell_type": "code",
   "execution_count": 52,
   "metadata": {},
   "outputs": [
    {
     "name": "stdout",
     "output_type": "stream",
     "text": [
      "La resta de 10 y 5 es igual a: 5\n"
     ]
    }
   ],
   "source": [
    "# Resta\n",
    "numero1 = 10\n",
    "numero2 = 5\n",
    "total = numero1 - numero2\n",
    "print(\"La resta de\", numero1, \"y\", numero2, \"es igual a:\", total)"
   ]
  },
  {
   "cell_type": "code",
   "execution_count": 53,
   "metadata": {},
   "outputs": [
    {
     "name": "stdout",
     "output_type": "stream",
     "text": [
      "La multiplicación de 10 y 5 es igual a: 50\n"
     ]
    }
   ],
   "source": [
    "# Multiplicar\n",
    "numero1 = 10\n",
    "numero2 = 5\n",
    "total = numero1 * numero2\n",
    "print(\"La multiplicación de\", numero1, \"y\", numero2, \"es igual a:\", total)"
   ]
  },
  {
   "cell_type": "code",
   "execution_count": 54,
   "metadata": {},
   "outputs": [
    {
     "name": "stdout",
     "output_type": "stream",
     "text": [
      "La división de 10 y 5 es igual a: 2.0\n"
     ]
    }
   ],
   "source": [
    "# División\n",
    "numero1 = 10\n",
    "numero2 = 5\n",
    "total = numero1 / numero2\n",
    "print(\"La división de\", numero1, \"y\", numero2, \"es igual a:\", total)"
   ]
  },
  {
   "cell_type": "code",
   "execution_count": 55,
   "metadata": {},
   "outputs": [
    {
     "name": "stdout",
     "output_type": "stream",
     "text": [
      "12\n"
     ]
    }
   ],
   "source": [
    "# Operaciones \n",
    "total = 3 + 3 * 3\n",
    "print(total)"
   ]
  },
  {
   "cell_type": "code",
   "execution_count": 56,
   "metadata": {},
   "outputs": [
    {
     "name": "stdout",
     "output_type": "stream",
     "text": [
      "18\n"
     ]
    }
   ],
   "source": [
    "# Operaciones \n",
    "total = (3 + 3) * 3\n",
    "print(total)"
   ]
  },
  {
   "cell_type": "code",
   "execution_count": 58,
   "metadata": {},
   "outputs": [
    {
     "name": "stdout",
     "output_type": "stream",
     "text": [
      "El cociente es: 3\n"
     ]
    }
   ],
   "source": [
    "# Cociente de una división //\n",
    "total = 10//3\n",
    "print(\"El cociente es:\", total)"
   ]
  },
  {
   "cell_type": "code",
   "execution_count": 59,
   "metadata": {},
   "outputs": [
    {
     "name": "stdout",
     "output_type": "stream",
     "text": [
      "El resto de una división es: 1\n"
     ]
    }
   ],
   "source": [
    "# Resto de un división %\n",
    "total = 10 % 3\n",
    "print(\"El resto de una división es:\", total)"
   ]
  },
  {
   "cell_type": "code",
   "execution_count": 60,
   "metadata": {},
   "outputs": [
    {
     "name": "stdout",
     "output_type": "stream",
     "text": [
      "La potencia de 2 a la 3 es: 8\n"
     ]
    }
   ],
   "source": [
    "# Potencia **\n",
    "total = 2**3\n",
    "print(\"La potencia de 2 a la 3 es:\", total)"
   ]
  },
  {
   "cell_type": "code",
   "execution_count": 64,
   "metadata": {},
   "outputs": [
    {
     "name": "stdout",
     "output_type": "stream",
     "text": [
      "El valor de la variable es igual a: 17\n"
     ]
    }
   ],
   "source": [
    "# Asignacion acumulada\n",
    "variable = 10 \n",
    "variable += 5\n",
    "variable += 2\n",
    "print(\"El valor de la variable es igual a:\", variable)"
   ]
  },
  {
   "cell_type": "code",
   "execution_count": 63,
   "metadata": {},
   "outputs": [
    {
     "name": "stdout",
     "output_type": "stream",
     "text": [
      "El valor de la variable es igual a: 3\n"
     ]
    }
   ],
   "source": [
    "# Asignacion acumulada\n",
    "variable = 10 \n",
    "variable -= 5\n",
    "variable -= 2\n",
    "print(\"El valor de la variable es igual a:\", variable)"
   ]
  },
  {
   "cell_type": "markdown",
   "metadata": {},
   "source": [
    "# Arrays: Listas y Tuplas (lists y tuples)"
   ]
  },
  {
   "cell_type": "markdown",
   "metadata": {},
   "source": [
    "## Listas (lists)"
   ]
  },
  {
   "cell_type": "code",
   "execution_count": 69,
   "metadata": {},
   "outputs": [
    {
     "name": "stdout",
     "output_type": "stream",
     "text": [
      "Hola Mundo\n"
     ]
    }
   ],
   "source": [
    "# lists\n",
    "lista = [\"Manuel\", 23, \"Hola Mundo\", 3.14, \"Pepito\"]\n",
    "print(lista[2])"
   ]
  },
  {
   "cell_type": "code",
   "execution_count": 76,
   "metadata": {},
   "outputs": [
    {
     "name": "stdout",
     "output_type": "stream",
     "text": [
      "Todos los elementos de la lista:  ['Mi casa', 23, 'Hola Mundo', 3.14, 'Pepito']\n"
     ]
    }
   ],
   "source": [
    "# lists\n",
    "lista = [\"Manuel\", 23, \"Hola Mundo\", 3.14, \"Pepito\"]\n",
    "lista[0] = \"Mi casa\"\n",
    "print(\"Todos los elementos de la lista: \", lista)"
   ]
  },
  {
   "cell_type": "code",
   "execution_count": 87,
   "metadata": {},
   "outputs": [
    {
     "data": {
      "text/plain": [
       "[23, 'Hola Mundo', 3.14, 'Pepito']"
      ]
     },
     "execution_count": 87,
     "metadata": {},
     "output_type": "execute_result"
    }
   ],
   "source": [
    "# Manejo de listas\n",
    "lista[1:]"
   ]
  },
  {
   "cell_type": "code",
   "execution_count": 93,
   "metadata": {},
   "outputs": [
    {
     "data": {
      "text/plain": [
       "'Pepito'"
      ]
     },
     "execution_count": 93,
     "metadata": {},
     "output_type": "execute_result"
    }
   ],
   "source": [
    "# Manejo de listas\n",
    "lista[-1]"
   ]
  },
  {
   "cell_type": "code",
   "execution_count": 95,
   "metadata": {},
   "outputs": [
    {
     "data": {
      "text/plain": [
       "['uno', 'dos', 'tres', 'cuatro', 'cinco', 'seis']"
      ]
     },
     "execution_count": 95,
     "metadata": {},
     "output_type": "execute_result"
    }
   ],
   "source": [
    "# Concatenar listas\n",
    "lista1 = [\"uno\", \"dos\", \"tres\"]\n",
    "lista2 = [\"cuatro\", \"cinco\", \"seis\"]\n",
    "lista_array = lista1 + lista2 \n",
    "lista_array"
   ]
  },
  {
   "cell_type": "markdown",
   "metadata": {},
   "source": [
    "## Tuplas (tuples)"
   ]
  },
  {
   "cell_type": "code",
   "execution_count": 75,
   "metadata": {},
   "outputs": [
    {
     "name": "stdout",
     "output_type": "stream",
     "text": [
      "Todos los elementos de la tupla: ('Manuel', 'Rosa', 'Pepito', 45, 3.14)\n"
     ]
    }
   ],
   "source": [
    "# Tuples\n",
    "# Las tuplas no pueden ser modificadas\n",
    "tuples = (\"Manuel\", \"Rosa\", \"Pepito\", 45, 3.14)\n",
    "print(\"Todos los elementos de la tupla:\",tuples)"
   ]
  },
  {
   "cell_type": "code",
   "execution_count": 79,
   "metadata": {},
   "outputs": [
    {
     "data": {
      "text/plain": [
       "'Manuel'"
      ]
     },
     "execution_count": 79,
     "metadata": {},
     "output_type": "execute_result"
    }
   ],
   "source": [
    "# Extrae el primer elemento de la tupla\n",
    "tuples[0]"
   ]
  },
  {
   "cell_type": "code",
   "execution_count": 85,
   "metadata": {},
   "outputs": [
    {
     "name": "stdout",
     "output_type": "stream",
     "text": [
      "(45, 3.14)\n",
      "('Rosa', 'Pepito', 45, 3.14)\n"
     ]
    }
   ],
   "source": [
    "# Manejo de tuplas\n",
    "print(tuples[3:5]) # Extrae los elementos de la posición 4 a 5 de la tupla\n",
    "print(tuples[1:]) # Extrae desde la posición 1 hasta el final"
   ]
  },
  {
   "cell_type": "code",
   "execution_count": 86,
   "metadata": {},
   "outputs": [
    {
     "data": {
      "text/plain": [
       "('Manuel', 'Rosa', 'Pepito', 45, 3.14, 'Manuel', 'Rosa', 'Pepito', 45, 3.14)"
      ]
     },
     "execution_count": 86,
     "metadata": {},
     "output_type": "execute_result"
    }
   ],
   "source": [
    "# Menejo de tuplas\n",
    "tuples * 2 # Crea una tupla dos veces"
   ]
  },
  {
   "cell_type": "markdown",
   "metadata": {},
   "source": [
    "# Diccionario"
   ]
  },
  {
   "cell_type": "code",
   "execution_count": 96,
   "metadata": {},
   "outputs": [
    {
     "data": {
      "text/plain": [
       "{'1': 'Jhoan', '2': 'Juan', '3': 'Kathe'}"
      ]
     },
     "execution_count": 96,
     "metadata": {},
     "output_type": "execute_result"
    }
   ],
   "source": [
    "# Diccionarios\n",
    "diccionario = {\"1\":\"Jhoan\", \"2\":\"Juan\", \"3\":\"Kathe\"}\n",
    "diccionario"
   ]
  },
  {
   "cell_type": "code",
   "execution_count": 99,
   "metadata": {},
   "outputs": [
    {
     "data": {
      "text/plain": [
       "'Jhoan'"
      ]
     },
     "execution_count": 99,
     "metadata": {},
     "output_type": "execute_result"
    }
   ],
   "source": [
    "# Manejando diccionario\n",
    "diccionario[\"1\"]"
   ]
  },
  {
   "cell_type": "code",
   "execution_count": 101,
   "metadata": {},
   "outputs": [
    {
     "name": "stdout",
     "output_type": "stream",
     "text": [
      "Las claves del diccionario son: dict_keys(['1', '2', '3'])\n"
     ]
    }
   ],
   "source": [
    "# Manejando diccionario\n",
    "print(\"Las claves del diccionario son:\", diccionario.keys())"
   ]
  },
  {
   "cell_type": "code",
   "execution_count": 102,
   "metadata": {},
   "outputs": [
    {
     "name": "stdout",
     "output_type": "stream",
     "text": [
      "Los valores del diccionario son: dict_values(['Jhoan', 'Juan', 'Kathe'])\n"
     ]
    }
   ],
   "source": [
    "# Manejando diccionario\n",
    "print(\"Los valores del diccionario son:\", diccionario.values())"
   ]
  },
  {
   "cell_type": "code",
   "execution_count": 105,
   "metadata": {},
   "outputs": [
    {
     "name": "stdout",
     "output_type": "stream",
     "text": [
      "El diccionario completo es: Kathe\n"
     ]
    }
   ],
   "source": [
    "# Manejando diccionario\n",
    "diccionario1 = {'1': 'Jhoan', '2': 'Juan', 3: 'Kathe'}\n",
    "print(\"El diccionario completo es:\", diccionario1[3])"
   ]
  },
  {
   "cell_type": "markdown",
   "metadata": {},
   "source": [
    "# Sentencia if y operadores de comparación, lógicos"
   ]
  },
  {
   "cell_type": "markdown",
   "metadata": {},
   "source": [
    "## Operadores de compraración\n",
    "- igualdad ==\n",
    "- distinto !=\n",
    "- mayor que >\n",
    "- mayo o igual que >=\n",
    "- menor que <\n",
    "- menor o igual que <="
   ]
  },
  {
   "cell_type": "markdown",
   "metadata": {},
   "source": [
    "## Operadores logicos\n",
    "- and: las dos condiciones son ciertas\n",
    "- or: al menos una de las condiciones ha de ser ciertas\n",
    "- not: la condicion no es cierta"
   ]
  },
  {
   "cell_type": "markdown",
   "metadata": {},
   "source": [
    "### Operador membership nos va permitir comprobar valores en strings, lists, tuples\n",
    "- in: el valor es encontrado\n",
    "- not in: el valor no es encontrado"
   ]
  },
  {
   "cell_type": "code",
   "execution_count": null,
   "metadata": {},
   "outputs": [],
   "source": [
    "#if(condicion):\n",
    "#    #Si la condicion es cierta\n",
    "#else:\n",
    "#    #Si la condicion no es cierta"
   ]
  },
  {
   "cell_type": "code",
   "execution_count": 110,
   "metadata": {},
   "outputs": [
    {
     "name": "stdout",
     "output_type": "stream",
     "text": [
      "Ingrese el valor de variable:2\n",
      "La condición no se cumple\n"
     ]
    }
   ],
   "source": [
    "# Sentencia if\n",
    "variable = int(input(\"Ingrese el valor de variable:\"))\n",
    "if(variable == 1):\n",
    "    print(\"La condición se cumple\")\n",
    "else:\n",
    "    print(\"La condición no se cumple\")"
   ]
  },
  {
   "cell_type": "code",
   "execution_count": 113,
   "metadata": {},
   "outputs": [
    {
     "name": "stdout",
     "output_type": "stream",
     "text": [
      "Ingrese el valor de variable:2\n",
      "2 es menor que 3\n"
     ]
    }
   ],
   "source": [
    "# Sentencia if\n",
    "variable = int(input(\"Ingrese el valor de variable:\"))\n",
    "if(variable > 3):\n",
    "    print(variable, \"es mayor que 3\")\n",
    "else:\n",
    "    print(variable, \"es menor que 3\")"
   ]
  },
  {
   "cell_type": "code",
   "execution_count": 115,
   "metadata": {},
   "outputs": [
    {
     "name": "stdout",
     "output_type": "stream",
     "text": [
      "Ingrese el valor de variable:2\n",
      "2 no es igual a 1\n"
     ]
    }
   ],
   "source": [
    "# Sentencia if\n",
    "variable = int(input(\"Ingrese el valor de variable:\"))\n",
    "if(variable == 1):\n",
    "    print(variable, \"es igual a 1\")\n",
    "else:\n",
    "    print(variable, \"no es igual a 1\")"
   ]
  },
  {
   "cell_type": "code",
   "execution_count": 120,
   "metadata": {},
   "outputs": [
    {
     "name": "stdout",
     "output_type": "stream",
     "text": [
      "La condición se cumple\n"
     ]
    }
   ],
   "source": [
    "# Sentencia if\n",
    "variable1 = 2\n",
    "variable2 = 2\n",
    "variable3 = 3\n",
    "variable4 = 4\n",
    "if(variable1 == variable2):\n",
    "    print(\"La condición se cumple\")\n",
    "else:\n",
    "    print(\"La condición no se cumple\")"
   ]
  },
  {
   "cell_type": "code",
   "execution_count": 122,
   "metadata": {},
   "outputs": [
    {
     "name": "stdout",
     "output_type": "stream",
     "text": [
      "La condición no se cumple\n"
     ]
    }
   ],
   "source": [
    "# Sentencia if\n",
    "variable1 = 2\n",
    "variable2 = 2\n",
    "variable3 = 3\n",
    "variable4 = 4\n",
    "if(variable1 == variable2 and variable4 < variable3):\n",
    "    print(\"La condición se cumple\")\n",
    "else:\n",
    "    print(\"La condición no se cumple\")"
   ]
  },
  {
   "cell_type": "code",
   "execution_count": 124,
   "metadata": {},
   "outputs": [
    {
     "name": "stdout",
     "output_type": "stream",
     "text": [
      "dos no se encuentra en la lista\n"
     ]
    }
   ],
   "source": [
    "# lista\n",
    "lista = [\"uno\", \"dos\", \"tres\"]\n",
    "if(\"dos\" in lista):\n",
    "    print(\"dos se encuentra en la lista\")\n",
    "else:\n",
    "    print(\"dos no se encuentra en la lista\")"
   ]
  },
  {
   "cell_type": "code",
   "execution_count": 127,
   "metadata": {},
   "outputs": [
    {
     "name": "stdout",
     "output_type": "stream",
     "text": [
      "dos no se encuentra en la lista\n"
     ]
    }
   ],
   "source": [
    "# lista\n",
    "lista = [\"uno\", \"dos\", \"tres\"]\n",
    "if(\"dos\" not in lista):\n",
    "    print(\"dos se encuentra en la lista\")\n",
    "else:\n",
    "    print(\"dos no se encuentra en la lista\")"
   ]
  },
  {
   "cell_type": "markdown",
   "metadata": {},
   "source": [
    "# Búcle While"
   ]
  },
  {
   "cell_type": "code",
   "execution_count": 128,
   "metadata": {},
   "outputs": [
    {
     "name": "stdout",
     "output_type": "stream",
     "text": [
      "0\n",
      "1\n",
      "2\n",
      "3\n",
      "4\n",
      "5\n",
      "6\n",
      "7\n",
      "8\n",
      "9\n"
     ]
    }
   ],
   "source": [
    "# Manejo de while\n",
    "inicio = 0\n",
    "final = 10 \n",
    "while(inicio < final):\n",
    "    print(inicio)\n",
    "    inicio += 1"
   ]
  },
  {
   "cell_type": "code",
   "execution_count": 129,
   "metadata": {},
   "outputs": [
    {
     "name": "stdout",
     "output_type": "stream",
     "text": [
      "0\n",
      "1\n",
      "2\n",
      "3\n",
      "4\n",
      "5\n",
      "6\n",
      "7\n",
      "8\n",
      "9\n",
      "10 no es menor que 10\n"
     ]
    }
   ],
   "source": [
    "# Manejo de while\n",
    "inicio = 0\n",
    "final = 10 \n",
    "while(inicio < final):\n",
    "    print(inicio)\n",
    "    inicio += 1\n",
    "else:\n",
    "    print(inicio, \"no es menor que\", final)"
   ]
  },
  {
   "cell_type": "code",
   "execution_count": 133,
   "metadata": {},
   "outputs": [
    {
     "name": "stdout",
     "output_type": "stream",
     "text": [
      "0\n",
      "1\n",
      "2\n",
      "3\n",
      "4\n",
      "5\n"
     ]
    }
   ],
   "source": [
    "# Romper la iteración en un determinado punto con break\n",
    "start = 0\n",
    "end = 10\n",
    "while(start < end):\n",
    "    print(start)\n",
    "    if(start == 5):\n",
    "        break\n",
    "    start += 1"
   ]
  },
  {
   "cell_type": "code",
   "execution_count": 134,
   "metadata": {},
   "outputs": [
    {
     "name": "stdout",
     "output_type": "stream",
     "text": [
      "0\n",
      "1\n",
      "2\n",
      "3\n",
      "4\n",
      "5\n",
      "6\n",
      "7\n",
      "8\n",
      "9\n"
     ]
    }
   ],
   "source": [
    "# Rocorrer los elementos de una lista o array\n",
    "index = 0\n",
    "lista = [0,1,2,3,4,5,6,7,8,9]\n",
    "\n",
    "while(index < len(lista)):\n",
    "    print(lista[index])\n",
    "    index += 1"
   ]
  },
  {
   "cell_type": "markdown",
   "metadata": {},
   "source": [
    "# Búcle for"
   ]
  },
  {
   "cell_type": "code",
   "execution_count": 135,
   "metadata": {},
   "outputs": [
    {
     "name": "stdout",
     "output_type": "stream",
     "text": [
      "0\n",
      "1\n",
      "2\n",
      "3\n",
      "4\n",
      "5\n",
      "6\n",
      "7\n",
      "8\n",
      "9\n"
     ]
    }
   ],
   "source": [
    "# range(inicio, final)\n",
    "for x in range(0, 10):\n",
    "    print(x)"
   ]
  },
  {
   "cell_type": "code",
   "execution_count": 137,
   "metadata": {},
   "outputs": [
    {
     "name": "stdout",
     "output_type": "stream",
     "text": [
      "Jhoan\n",
      "Juan\n",
      "Yolanda\n",
      "Kathe\n"
     ]
    }
   ],
   "source": [
    "# tuplas\n",
    "nombres = (\"Jhoan\", \"Juan\", \"Yolanda\", \"Kathe\")\n",
    "for index in range(len(nombres)):\n",
    "    print(nombres[index])"
   ]
  },
  {
   "cell_type": "code",
   "execution_count": 140,
   "metadata": {},
   "outputs": [
    {
     "name": "stdout",
     "output_type": "stream",
     "text": [
      "Jhoan\n",
      "Juan\n",
      "Yolanda\n",
      "Kathe\n",
      "Ya no quedan más nombres\n"
     ]
    }
   ],
   "source": [
    "# tuplas o listas\n",
    "nombres = (\"Jhoan\", \"Juan\", \"Yolanda\", \"Kathe\")\n",
    "for index in nombres:\n",
    "    print(index)\n",
    "else: print(\"Ya no quedan más nombres\")"
   ]
  },
  {
   "cell_type": "code",
   "execution_count": 142,
   "metadata": {},
   "outputs": [
    {
     "name": "stdout",
     "output_type": "stream",
     "text": [
      "1 : Jhoan\n",
      "2 : Juan\n",
      "3 : Yolanda\n",
      "4 : Kathe\n"
     ]
    }
   ],
   "source": [
    "# diccionario\n",
    "diccionario = {1:\"Jhoan\", 2:\"Juan\", 3:\"Yolanda\", 4:\"Kathe\"}\n",
    "for clave, valor in diccionario.items():\n",
    "     print(clave,\":\", valor)"
   ]
  },
  {
   "cell_type": "markdown",
   "metadata": {},
   "source": [
    "# Entrada de datos input()"
   ]
  },
  {
   "cell_type": "code",
   "execution_count": 144,
   "metadata": {},
   "outputs": [
    {
     "name": "stdout",
     "output_type": "stream",
     "text": [
      "*** Programa para sumar dos numeros****\n",
      "Introduzca el primer numero: 2\n",
      "Introduzca el segundo numero: 3\n",
      "La suma de los numeroes 2 y 3 es: 5\n"
     ]
    }
   ],
   "source": [
    "print(\"*** Programa para sumar dos numeros****\")\n",
    "numero1 = int(input(\"Introduzca el primer numero: \"))\n",
    "numero2 = int(input(\"Introduzca el segundo numero: \"))\n",
    "total = numero1 + numero2\n",
    "print(\"La suma de los numeroes\", numero1, \"y\", numero2, \"es:\",total)"
   ]
  },
  {
   "cell_type": "markdown",
   "metadata": {},
   "source": [
    "# Capturar errores try-except"
   ]
  },
  {
   "cell_type": "code",
   "execution_count": 149,
   "metadata": {},
   "outputs": [
    {
     "name": "stdout",
     "output_type": "stream",
     "text": [
      "Introduzca un numero entero: 3\n",
      "En hora buena has ingresado un número entero:  3\n"
     ]
    }
   ],
   "source": [
    "# Ejemplo try-except\n",
    "entero = input(\"Introduzca un numero entero: \")\n",
    "\n",
    "try:\n",
    "    entero = int(entero)\n",
    "    print(\"En hora buena has ingresado un número entero: \", entero)\n",
    "except ValueError:\n",
    "    print(\"Error no has ingresado un número entero\")"
   ]
  },
  {
   "cell_type": "markdown",
   "metadata": {},
   "source": [
    "# Como pasar argumentos en línea de comandos argv"
   ]
  },
  {
   "cell_type": "code",
   "execution_count": 153,
   "metadata": {},
   "outputs": [
    {
     "name": "stdout",
     "output_type": "stream",
     "text": [
      "Todos los argumentos pasado en la línea de comandos: ['C:\\\\Anaconda3\\\\lib\\\\site-packages\\\\ipykernel_launcher.py', '-f', 'C:\\\\Users\\\\Johan Ruiz\\\\AppData\\\\Roaming\\\\jupyter\\\\runtime\\\\kernel-7e8a9e9b-8caa-4c54-82f0-24d1a30c2d79.json'] hola mundo\n"
     ]
    }
   ],
   "source": [
    "# argv\n",
    "import sys\n",
    "print(\"Todos los argumentos pasado en la línea de comandos:\", sys.argv, \"hola\", \"mundo\")"
   ]
  },
  {
   "cell_type": "markdown",
   "metadata": {},
   "source": [
    "# Funciones "
   ]
  },
  {
   "cell_type": "code",
   "execution_count": 170,
   "metadata": {},
   "outputs": [
    {
     "name": "stdout",
     "output_type": "stream",
     "text": [
      "Hola mundo\n"
     ]
    }
   ],
   "source": [
    "# Ejemplo de función simple\n",
    "def saluda():\n",
    "    return \"Hola mundo\"\n",
    "print(saluda())"
   ]
  },
  {
   "cell_type": "code",
   "execution_count": 167,
   "metadata": {},
   "outputs": [
    {
     "data": {
      "text/plain": [
       "7"
      ]
     },
     "execution_count": 167,
     "metadata": {},
     "output_type": "execute_result"
    }
   ],
   "source": [
    "# Función sumar con argumentos \n",
    "def sumar(x, y):\n",
    "    z = x + y\n",
    "    return(z)\n",
    "\n",
    "sumar(3, 4)"
   ]
  },
  {
   "cell_type": "code",
   "execution_count": 168,
   "metadata": {},
   "outputs": [
    {
     "data": {
      "text/plain": [
       "2"
      ]
     },
     "execution_count": 168,
     "metadata": {},
     "output_type": "execute_result"
    }
   ],
   "source": [
    "# Función restar con argumentos \n",
    "def restar(x, y):\n",
    "    z = x - y\n",
    "    return(z)\n",
    "\n",
    "restar(4, 2)"
   ]
  },
  {
   "cell_type": "code",
   "execution_count": 169,
   "metadata": {},
   "outputs": [
    {
     "data": {
      "text/plain": [
       "8"
      ]
     },
     "execution_count": 169,
     "metadata": {},
     "output_type": "execute_result"
    }
   ],
   "source": [
    "# Función multiplicar con argumentos \n",
    "def multiplicar(x, y):\n",
    "    z = x * y\n",
    "    return(z)\n",
    "\n",
    "multiplicar(4, 2)"
   ]
  },
  {
   "cell_type": "code",
   "execution_count": 172,
   "metadata": {},
   "outputs": [
    {
     "data": {
      "text/plain": [
       "2.0"
      ]
     },
     "execution_count": 172,
     "metadata": {},
     "output_type": "execute_result"
    }
   ],
   "source": [
    "# Función dividir con argumentos \n",
    "def dividir(x, y):\n",
    "    z = x / y\n",
    "    return(z)\n",
    "\n",
    "dividir(4, 2)"
   ]
  },
  {
   "cell_type": "code",
   "execution_count": 173,
   "metadata": {},
   "outputs": [
    {
     "data": {
      "text/plain": [
       "'Tutorial Python'"
      ]
     },
     "execution_count": 173,
     "metadata": {},
     "output_type": "execute_result"
    }
   ],
   "source": [
    "# Función con argumentos \n",
    "def escribe(string):\n",
    "    return string\n",
    "\n",
    "escribe(\"Tutorial Python\")"
   ]
  },
  {
   "cell_type": "code",
   "execution_count": 177,
   "metadata": {},
   "outputs": [
    {
     "data": {
      "text/plain": [
       "1.3333333333333333"
      ]
     },
     "execution_count": 177,
     "metadata": {},
     "output_type": "execute_result"
    }
   ],
   "source": [
    "# Función dividir con argumento opcional\n",
    "def dividir(x, y = 1):\n",
    "    z = x / y\n",
    "    return(z)\n",
    "\n",
    "dividir(4, 3)"
   ]
  },
  {
   "cell_type": "code",
   "execution_count": 183,
   "metadata": {},
   "outputs": [
    {
     "data": {
      "text/plain": [
       "'0Hola amigoPythonMi casa'"
      ]
     },
     "execution_count": 183,
     "metadata": {},
     "output_type": "execute_result"
    }
   ],
   "source": [
    "# Función con argumento que es un array\n",
    "def array(arr):\n",
    "    resultado = ''\n",
    "    for valor in arr:\n",
    "        resultado += str(valor)\n",
    "    return resultado\n",
    "\n",
    "lista = [0, \"Hola amigo\",\"Python\", \"Mi casa\"]\n",
    "array(lista)"
   ]
  },
  {
   "cell_type": "code",
   "execution_count": 184,
   "metadata": {},
   "outputs": [
    {
     "name": "stdout",
     "output_type": "stream",
     "text": [
      "1 2 hola 3.15 Mundo Python "
     ]
    }
   ],
   "source": [
    "# Función con tantos argumentos como necesitemos\n",
    "def argumentos(*arg):\n",
    "    for valor in arg:\n",
    "        print(valor, end =\" \")\n",
    "        \n",
    "argumentos(1,2,\"hola\", 3.15, \"Mundo\", \"Python\")"
   ]
  },
  {
   "cell_type": "code",
   "execution_count": 185,
   "metadata": {},
   "outputs": [
    {
     "data": {
      "text/plain": [
       "5"
      ]
     },
     "execution_count": 185,
     "metadata": {},
     "output_type": "execute_result"
    }
   ],
   "source": [
    "# lambda nos permite crear funciones con una sola instrucción\n",
    "restar = lambda num1, num2: num1 - num2\n",
    "restar(10, 5)"
   ]
  },
  {
   "cell_type": "markdown",
   "metadata": {},
   "source": [
    "# Pogramación Orientada a Objetos"
   ]
  },
  {
   "cell_type": "code",
   "execution_count": 197,
   "metadata": {},
   "outputs": [],
   "source": [
    "# Clases\n",
    "class Persona():\n",
    "    # Metodo constructor\n",
    "    def __init__(self):\n",
    "        \n",
    "        # Propiedades privadas\n",
    "        self.__nombre = 'Introduzca un nombre'\n",
    "        self.__pais = 'Introduzca un pais'\n",
    "        \n",
    "        # Propiedad publica\n",
    "        self.sexo = ['hombre','mujer']\n",
    "    \n",
    "    def nombre(self, nombre = \"\"):\n",
    "        if(nombre != \"\"):\n",
    "            return nombre\n",
    "        else:\n",
    "            return self.__nombre\n",
    "    \n",
    "    def pais(self, pais=\"\"):\n",
    "        if(pais != \"\"):\n",
    "            return pais\n",
    "        else: \n",
    "            return self.__pais\n",
    "        \n",
    "    def edad(self, edad = 0):\n",
    "        return edad\n",
    "    \n",
    "    def estatura(self, estatura = 0):\n",
    "        return estatura\n",
    "    \n",
    "    def peso(self, peso = 0):\n",
    "        return peso"
   ]
  },
  {
   "cell_type": "code",
   "execution_count": 198,
   "metadata": {},
   "outputs": [],
   "source": [
    "# creamos la clase persona\n",
    "persona = Persona()"
   ]
  },
  {
   "cell_type": "code",
   "execution_count": 199,
   "metadata": {},
   "outputs": [
    {
     "data": {
      "text/plain": [
       "0"
      ]
     },
     "execution_count": 199,
     "metadata": {},
     "output_type": "execute_result"
    }
   ],
   "source": [
    "# LLamamos el método edad\n",
    "persona.edad()"
   ]
  },
  {
   "cell_type": "code",
   "execution_count": 200,
   "metadata": {},
   "outputs": [
    {
     "data": {
      "text/plain": [
       "'Carlos'"
      ]
     },
     "execution_count": 200,
     "metadata": {},
     "output_type": "execute_result"
    }
   ],
   "source": [
    "# llamamos el método nombre\n",
    "persona.nombre(\"Carlos\")"
   ]
  },
  {
   "cell_type": "code",
   "execution_count": 201,
   "metadata": {},
   "outputs": [
    {
     "data": {
      "text/plain": [
       "'Introduzca un nombre'"
      ]
     },
     "execution_count": 201,
     "metadata": {},
     "output_type": "execute_result"
    }
   ],
   "source": [
    "# llamamos el método nombre\n",
    "persona.nombre()"
   ]
  },
  {
   "cell_type": "code",
   "execution_count": 202,
   "metadata": {},
   "outputs": [
    {
     "data": {
      "text/plain": [
       "'hombre'"
      ]
     },
     "execution_count": 202,
     "metadata": {},
     "output_type": "execute_result"
    }
   ],
   "source": [
    "# Llamamos el método sexo\n",
    "persona.sexo[0]"
   ]
  },
  {
   "cell_type": "code",
   "execution_count": 203,
   "metadata": {},
   "outputs": [
    {
     "data": {
      "text/plain": [
       "180"
      ]
     },
     "execution_count": 203,
     "metadata": {},
     "output_type": "execute_result"
    }
   ],
   "source": [
    "# Llamamos el método estatura\n",
    "persona.estatura(180)"
   ]
  },
  {
   "cell_type": "code",
   "execution_count": 204,
   "metadata": {},
   "outputs": [
    {
     "data": {
      "text/plain": [
       "70"
      ]
     },
     "execution_count": 204,
     "metadata": {},
     "output_type": "execute_result"
    }
   ],
   "source": [
    "# Llamamos el método peso\n",
    "persona.peso(70)"
   ]
  },
  {
   "cell_type": "markdown",
   "metadata": {},
   "source": [
    "# Herencia de POO"
   ]
  },
  {
   "cell_type": "code",
   "execution_count": 206,
   "metadata": {},
   "outputs": [],
   "source": [
    "class Deportista(Persona):\n",
    "    \n",
    "    def deporte(self, deporte):\n",
    "        return deporte\n",
    "\n",
    "    def detener(self):\n",
    "        return \"El deportista esta detenido\"\n",
    "    \n",
    "    def correr(self):\n",
    "        return \"El deportista esta corriendo\"\n",
    "    \n",
    "    def salta(self):\n",
    "        return \"El deportista esta saltando\"\n",
    "    \n",
    "    def nadar(self):\n",
    "        return \"El deportista esta nadando\"\n",
    "    \n",
    "    # Método privado\n",
    "    #def __metodo(self):\n",
    "    #    return \"Privado\""
   ]
  },
  {
   "cell_type": "code",
   "execution_count": 207,
   "metadata": {},
   "outputs": [],
   "source": [
    "# Clase deportista\n",
    "deportista = Deportista()"
   ]
  },
  {
   "cell_type": "code",
   "execution_count": 209,
   "metadata": {},
   "outputs": [
    {
     "data": {
      "text/plain": [
       "'Jhoan'"
      ]
     },
     "execution_count": 209,
     "metadata": {},
     "output_type": "execute_result"
    }
   ],
   "source": [
    "# Llamamos el método nombre heredado de la clase persona\n",
    "deportista.nombre(\"Jhoan\")"
   ]
  },
  {
   "cell_type": "code",
   "execution_count": 210,
   "metadata": {},
   "outputs": [
    {
     "data": {
      "text/plain": [
       "26"
      ]
     },
     "execution_count": 210,
     "metadata": {},
     "output_type": "execute_result"
    }
   ],
   "source": [
    "# Llamamos el método edad heredado de la clase persona\n",
    "deportista.edad(26)"
   ]
  },
  {
   "cell_type": "code",
   "execution_count": 212,
   "metadata": {},
   "outputs": [
    {
     "data": {
      "text/plain": [
       "'El deportista esta nadando'"
      ]
     },
     "execution_count": 212,
     "metadata": {},
     "output_type": "execute_result"
    }
   ],
   "source": [
    "# Llamamos el método nadar\n",
    "deportista.nadar()"
   ]
  },
  {
   "cell_type": "code",
   "execution_count": 213,
   "metadata": {},
   "outputs": [
    {
     "data": {
      "text/plain": [
       "'El deportista esta corriendo'"
      ]
     },
     "execution_count": 213,
     "metadata": {},
     "output_type": "execute_result"
    }
   ],
   "source": [
    "# Llamamos el método correr\n",
    "deportista.correr()"
   ]
  },
  {
   "cell_type": "code",
   "execution_count": 214,
   "metadata": {},
   "outputs": [
    {
     "data": {
      "text/plain": [
       "'El deportista esta detenido'"
      ]
     },
     "execution_count": 214,
     "metadata": {},
     "output_type": "execute_result"
    }
   ],
   "source": [
    "# Llamamos el método detener\n",
    "deportista.detener()"
   ]
  },
  {
   "cell_type": "code",
   "execution_count": 215,
   "metadata": {},
   "outputs": [
    {
     "data": {
      "text/plain": [
       "'El deportista esta saltando'"
      ]
     },
     "execution_count": 215,
     "metadata": {},
     "output_type": "execute_result"
    }
   ],
   "source": [
    "# Llamamos el método saltar\n",
    "deportista.salta()"
   ]
  },
  {
   "cell_type": "markdown",
   "metadata": {},
   "source": [
    "# Funciones útiles para strings"
   ]
  },
  {
   "cell_type": "code",
   "execution_count": 217,
   "metadata": {},
   "outputs": [
    {
     "name": "stdout",
     "output_type": "stream",
     "text": [
      "Hola mundo\n"
     ]
    }
   ],
   "source": [
    "# capitalize: convierte el primer carácter de un string en mayúscula\n",
    "string = \"hola Mundo\"\n",
    "print(string.capitalize())"
   ]
  },
  {
   "cell_type": "code",
   "execution_count": null,
   "metadata": {},
   "outputs": [],
   "source": [
    "# lower: convierte el string de mayuscula a minuscula\n",
    "string = \"HOLA MUNDO\"\n",
    "print(string.lower())"
   ]
  },
  {
   "cell_type": "code",
   "execution_count": 219,
   "metadata": {},
   "outputs": [
    {
     "name": "stdout",
     "output_type": "stream",
     "text": [
      "HOLA MUNDO\n"
     ]
    }
   ],
   "source": [
    "# upper: convierte el string de minuscula a mayuscula \n",
    "string = \"hola mundo\"\n",
    "print(string.upper())"
   ]
  },
  {
   "cell_type": "code",
   "execution_count": 220,
   "metadata": {},
   "outputs": [
    {
     "name": "stdout",
     "output_type": "stream",
     "text": [
      "Función len: 10\n"
     ]
    }
   ],
   "source": [
    "# len: obtiene la longitud de un string \n",
    "string = \"hola mundo\"\n",
    "print(\"Función len:\", len(string))"
   ]
  },
  {
   "cell_type": "code",
   "execution_count": 224,
   "metadata": {},
   "outputs": [
    {
     "name": "stdout",
     "output_type": "stream",
     "text": [
      "uno\n",
      "Función split: ['uno', 'dos', 'tres', 'cuatro', 'cinco']\n"
     ]
    }
   ],
   "source": [
    "# split: obtiene la longitud de un string \n",
    "string = \"uno dos tres cuatro cinco\"\n",
    "lista = string.split(\" \")\n",
    "print(lista[0])\n",
    "print(\"Función split:\", string.split(\" \"))"
   ]
  },
  {
   "cell_type": "code",
   "execution_count": 225,
   "metadata": {},
   "outputs": [
    {
     "name": "stdout",
     "output_type": "stream",
     "text": [
      "Función replace: Hola Hola Hola Hola\n"
     ]
    }
   ],
   "source": [
    "# replace: reemplazar subcadenas .replace(old, new, max)\n",
    "string = \"test test test test\"\n",
    "print(\"Función replace:\", string.replace(\"test\", \"Hola\"))"
   ]
  },
  {
   "cell_type": "code",
   "execution_count": 226,
   "metadata": {},
   "outputs": [
    {
     "name": "stdout",
     "output_type": "stream",
     "text": [
      "Función replace: Hola Hola test test\n"
     ]
    }
   ],
   "source": [
    "# replace: reemplazar subcadenas .replace(old, new, max)\n",
    "string = \"test test test test\"\n",
    "print(\"Función replace:\", string.replace(\"test\", \"Hola\", 2))"
   ]
  },
  {
   "cell_type": "code",
   "execution_count": 227,
   "metadata": {},
   "outputs": [
    {
     "name": "stdout",
     "output_type": "stream",
     "text": [
      "Función count: 2\n"
     ]
    }
   ],
   "source": [
    "# count: cuenta el numero de veces que aparece una subcadena\n",
    "string = \"hola nuevo mundo hola\"\n",
    "print(\"Función count:\", string.count(\"hola\", 0, len(string)))"
   ]
  },
  {
   "cell_type": "code",
   "execution_count": 228,
   "metadata": {},
   "outputs": [
    {
     "name": "stdout",
     "output_type": "stream",
     "text": [
      "Función lstrip: python es el mejor\n"
     ]
    }
   ],
   "source": [
    "# lstrinp: eliminar los caracteres del principio de un string\n",
    "string = \"*************python es el mejor\"\n",
    "print(\"Función lstrip:\", string.lstrip(\"*\"))"
   ]
  },
  {
   "cell_type": "code",
   "execution_count": 230,
   "metadata": {},
   "outputs": [
    {
     "name": "stdout",
     "output_type": "stream",
     "text": [
      "Función rstrip: python es el mejor\n"
     ]
    }
   ],
   "source": [
    "# rstrinp: eliminar los caracteres del final de un string\n",
    "string = \"python es el mejor-----\"\n",
    "print(\"Función rstrip:\", string.rstrip(\"-\"))"
   ]
  },
  {
   "cell_type": "code",
   "execution_count": 232,
   "metadata": {},
   "outputs": [
    {
     "name": "stdout",
     "output_type": "stream",
     "text": [
      "Función find: 5\n"
     ]
    }
   ],
   "source": [
    "# find: posición index de la primera posición de una subcadena\n",
    "string = \"Hola mundo python\"\n",
    "print(\"Función find:\", string.find(\"mundo\", 0, len(string)))"
   ]
  },
  {
   "cell_type": "code",
   "execution_count": 234,
   "metadata": {},
   "outputs": [
    {
     "name": "stdout",
     "output_type": "stream",
     "text": [
      "Función rfind: 11\n"
     ]
    }
   ],
   "source": [
    "# rfind: posición index de la primea posición de una subcadena de derecha a izquierda\n",
    "string = \"Hola mundo mundo python\"\n",
    "print(\"Función rfind:\", string.rfind(\"mundo\", 0, len(string)))"
   ]
  },
  {
   "cell_type": "code",
   "execution_count": 235,
   "metadata": {},
   "outputs": [
    {
     "name": "stdout",
     "output_type": "stream",
     "text": [
      "El string 01234540928457035 contiene digitos\n"
     ]
    }
   ],
   "source": [
    "# isdigit: regresa un valor booleano, true si el string contiene digitos\n",
    "string =\"01234540928457035\"\n",
    "if(string.isdigit()):\n",
    "    print(\"El string\", string, \"contiene digitos\")\n",
    "else: \n",
    "    print(\"El string\", string, \"no contiene digitos\")"
   ]
  },
  {
   "cell_type": "code",
   "execution_count": 238,
   "metadata": {},
   "outputs": [
    {
     "name": "stdout",
     "output_type": "stream",
     "text": [
      "Función join: uno-dos-tres-cuatro\n"
     ]
    }
   ],
   "source": [
    "# join: convierte un array en un string a traves del separador indicado\n",
    "separador = \"-\"\n",
    "lista = [\"uno\", \"dos\", \"tres\", \"cuatro\"]\n",
    "print(\"Función join:\", separador.join(lista))"
   ]
  },
  {
   "cell_type": "markdown",
   "metadata": {},
   "source": [
    "# Funciones útilies para arrays"
   ]
  },
  {
   "cell_type": "code",
   "execution_count": 239,
   "metadata": {},
   "outputs": [
    {
     "name": "stdout",
     "output_type": "stream",
     "text": [
      "Numero de elementos del diccionario: 3\n"
     ]
    }
   ],
   "source": [
    "# len(array): regresa el numero de elementos en arrays: listas, tuplas, diccionarios\n",
    "diccionario = {\"uno\":1, \"dos\":2, \"tres\":3}\n",
    "print(\"Numero de elementos del diccionario:\", len(diccionario))"
   ]
  },
  {
   "cell_type": "code",
   "execution_count": 241,
   "metadata": {},
   "outputs": [
    {
     "name": "stdout",
     "output_type": "stream",
     "text": [
      "Nuevo elemento en la lista: ['uno', 1, 'dos', 2, 'tres', 3, 'cuatro']\n"
     ]
    }
   ],
   "source": [
    "# append(valor): agrega un nuevo elemento al final de un array lista con el valor dado\n",
    "lista = [\"uno\",1, \"dos\",2, \"tres\",3]\n",
    "lista.append(\"cuatro\")\n",
    "print(\"Nuevo elemento en la lista:\", lista)"
   ]
  },
  {
   "cell_type": "code",
   "execution_count": 243,
   "metadata": {},
   "outputs": [
    {
     "name": "stdout",
     "output_type": "stream",
     "text": [
      "Nuevo elemento al principio de la lista: ['cuatro', 'uno', 'dos', 'tres']\n"
     ]
    }
   ],
   "source": [
    "# insert(x, valor): inserta el valor antes de la posición index x dada, solo valida para array listas\n",
    "lista = [\"uno\", \"dos\", \"tres\"]\n",
    "lista.insert(0,\"cuatro\")\n",
    "print(\"Nuevo elemento al principio de la lista:\", lista)"
   ]
  },
  {
   "cell_type": "code",
   "execution_count": 5,
   "metadata": {},
   "outputs": [
    {
     "name": "stdout",
     "output_type": "stream",
     "text": [
      "Eliminar el primer elemento de la lista: uno ['dos', 'tres', 'cuatro']\n"
     ]
    }
   ],
   "source": [
    "# pop(x): eliminar del array el elemento a traves del index x indicado, solo valido para array lista\n",
    "lista = [\"uno\", \"dos\", \"tres\", \"cuatro\"]\n",
    "print(\"Eliminar el primer elemento de la lista:\", lista.pop(0), lista)"
   ]
  },
  {
   "cell_type": "code",
   "execution_count": 7,
   "metadata": {},
   "outputs": [
    {
     "name": "stdout",
     "output_type": "stream",
     "text": [
      "Primera posición index del valor seleccionado: 1\n",
      "Primera posición index del valor seleccionado: 0\n"
     ]
    }
   ],
   "source": [
    "# index(valor): busca el valor indicado en los arrays lista o tuplas y regresa el index de la primera ocurrencia encontrada, \n",
    "# buscando desde el inicio del array hasta el final\n",
    "tupla = (\"mundo\", \"python\", \"python\", \"mundo\")\n",
    "print(\"Primera posición index del valor seleccionado:\", tupla.index(\"python\"))\n",
    "print(\"Primera posición index del valor seleccionado:\", tupla.index(\"mundo\"))"
   ]
  },
  {
   "cell_type": "code",
   "execution_count": 9,
   "metadata": {},
   "outputs": [
    {
     "name": "stdout",
     "output_type": "stream",
     "text": [
      "Eliminar la primera ocurrencia del valor dado en una lista: None ['Argentina', 'Peru', 'Colombia', 'Cuba']\n"
     ]
    }
   ],
   "source": [
    "# remove(valor): busca la primera ocurrencia del valor dado y lo elimina, solo valido para array lista\n",
    "lista = [\"Argentina\", \"Peru\", \"Colombia\", \"Cuba\", \"EEUU\"]\n",
    "print(\"Eliminar la primera ocurrencia del valor dado en una lista:\", lista.remove(\"EEUU\"), lista)"
   ]
  },
  {
   "cell_type": "code",
   "execution_count": 10,
   "metadata": {},
   "outputs": [
    {
     "name": "stdout",
     "output_type": "stream",
     "text": [
      "Numero de elementos con el valor uno que aparecen en la tupla: 2 ('uno', 'dos', 'tres', 'uno')\n"
     ]
    }
   ],
   "source": [
    "# count(valor): busca el numero de veces que aparece el valor dado en los arrays lista y tuplas \n",
    "lista = (\"uno\", \"dos\", \"tres\", \"uno\")\n",
    "print(\"Numero de elementos con el valor uno que aparecen en la tupla:\", lista.count(\"uno\"), lista)"
   ]
  },
  {
   "cell_type": "markdown",
   "metadata": {},
   "source": [
    "# Leer y escribir ficheros"
   ]
  },
  {
   "cell_type": "code",
   "execution_count": null,
   "metadata": {},
   "outputs": [],
   "source": [
    "# Leer y escribir ficheros\n",
    "# Modos:\n",
    "# w: escritura, crear el fichero si no existe, si existe reemplaza el contenido anterior por el nuevo contenido.\n",
    "# a: escritura, crear el fichero si no existe, si existe agrega el nuevo contenido al final del contenido ya existente.\n",
    "# r: lectura de ficheros\n"
   ]
  },
  {
   "cell_type": "code",
   "execution_count": 13,
   "metadata": {},
   "outputs": [
    {
     "name": "stdout",
     "output_type": "stream",
     "text": [
      "*** Documento HTML creado con exito ***\n"
     ]
    }
   ],
   "source": [
    "# Creamos el manejador para crear un archivo HTML\n",
    "manejador = open(\"index.html\", \"a\")\n",
    "\n",
    "html = \"<!DOCTYPE HTML>\\n\"\n",
    "html += \"<html>\\n\"\n",
    "html += \"<head>\\n\"\n",
    "html += \"<title>Hola Mundo</title>\\n\"\n",
    "html += \"</head>\\n\"\n",
    "html += \"<body>\\n\"\n",
    "html += \"<h1>Hola Mundo</h1>\\n\"\n",
    "html += \"</body>\\n\"\n",
    "html += \"</html>\\n\"\n",
    "\n",
    "# Escribimos en el fichero\n",
    "manejador.write(html)\n",
    "\n",
    "manejador.close()\n",
    "\n",
    "print(\"*** Documento HTML creado con exito ***\")\n"
   ]
  },
  {
   "cell_type": "code",
   "execution_count": 14,
   "metadata": {},
   "outputs": [
    {
     "name": "stdout",
     "output_type": "stream",
     "text": [
      "*** Documento HTML creado con exito ***\n"
     ]
    }
   ],
   "source": [
    "# Creamos el manejador para crear un archivo HTML\n",
    "manejador = open(\"index.html\", \"w\")\n",
    "\n",
    "html = \"<!DOCTYPE HTML>\\n\"\n",
    "html += \"<html>\\n\"\n",
    "html += \"<head>\\n\"\n",
    "html += \"<title>Hola Mundo</title>\\n\"\n",
    "html += \"</head>\\n\"\n",
    "html += \"<body>\\n\"\n",
    "html += \"<h1>Hola Mundo</h1>\\n\"\n",
    "html += \"</body>\\n\"\n",
    "html += \"</html>\\n\"\n",
    "\n",
    "# Escribimos en el fichero\n",
    "manejador.write(html)\n",
    "\n",
    "manejador.close()\n",
    "\n",
    "print(\"*** Documento HTML creado con exito ***\")\n"
   ]
  },
  {
   "cell_type": "code",
   "execution_count": 15,
   "metadata": {},
   "outputs": [
    {
     "name": "stdout",
     "output_type": "stream",
     "text": [
      "<!DOCTYPE HTML>\n",
      "<html>\n",
      "<head>\n",
      "<title>Hola Mundo</title>\n",
      "</head>\n",
      "<body>\n",
      "<h1>Hola Mundo</h1>\n",
      "</body>\n",
      "</html>\n",
      "\n",
      "*** Ahora leemo el archivo con la función read() ***\n"
     ]
    }
   ],
   "source": [
    "# Creamos el manejador para crear un archivo HTML\n",
    "manejador = open(\"index.html\", \"r\")\n",
    "contenido = manejador.read()\n",
    "print(contenido)\n",
    "manejador.close()\n",
    "\n",
    "print(\"*** Ahora leemo el archivo con la función read() ***\")"
   ]
  },
  {
   "cell_type": "code",
   "execution_count": 16,
   "metadata": {},
   "outputs": [
    {
     "name": "stdout",
     "output_type": "stream",
     "text": [
      "*** Leer el fichero línea por línea a traves de un bucle for ***\n",
      "<!DOCTYPE HTML>\n",
      "<html>\n",
      "<head>\n",
      "<title>Hola Mundo</title>\n",
      "</head>\n",
      "<body>\n",
      "<h1>Hola Mundo</h1>\n",
      "</body>\n",
      "</html>\n"
     ]
    }
   ],
   "source": [
    "print(\"*** Leer el fichero línea por línea a traves de un bucle for ***\")\n",
    "\n",
    "manejador = open(\"index.html\",\"r\")\n",
    "for linea in manejador:\n",
    "    print(linea, end =\"\")\n",
    "manejador.close()"
   ]
  },
  {
   "cell_type": "markdown",
   "metadata": {},
   "source": [
    "# Módulo datetime fecha y hora"
   ]
  },
  {
   "cell_type": "markdown",
   "metadata": {},
   "source": [
    "## Objeto DATE"
   ]
  },
  {
   "cell_type": "code",
   "execution_count": 33,
   "metadata": {},
   "outputs": [
    {
     "name": "stdout",
     "output_type": "stream",
     "text": [
      "Fecha actual: 2018-05-31\n",
      "Día del mes: 31\n",
      "Mes del año: 5\n",
      "Año: 2018\n",
      "Día de la semana: 3\n"
     ]
    }
   ],
   "source": [
    "import datetime\n",
    "\n",
    "### Objeto date\n",
    "# Fecha actual\n",
    "print(\"Fecha actual:\", datetime.date.today())\n",
    "# Día del mes actual\n",
    "print(\"Día del mes:\", datetime.date.today().day)\n",
    "# Mes del año\n",
    "print(\"Mes del año:\", datetime.date.today().month)\n",
    "# Año\n",
    "print(\"Año:\", datetime.date.today().year)\n",
    "# Día de la semana\n",
    "print(\"Día de la semana:\", datetime.date.today().weekday())"
   ]
  },
  {
   "cell_type": "code",
   "execution_count": 34,
   "metadata": {},
   "outputs": [
    {
     "name": "stdout",
     "output_type": "stream",
     "text": [
      "Fecha actual: Hoy Jueves 31 de Mayo del 2018\n"
     ]
    }
   ],
   "source": [
    "# Objeto date\n",
    "mes = {1:\"Enero\", 2:\"Febrero\", 3:\"Marzo\", 4:\"Abril\", 5:\"Mayo\", 6:\"Junio\", 7:\"Julio\", 8:\"Agosto\",\n",
    "      9:\"Septiembre\", 10:\"Octubre\", 11:\"Noviembre\", 12:\"Diciembre\"}\n",
    "dia_semana = {0:\"Lunes\", 1:\"Martes\", 2:\"Miércoles\", 3:\"Jueves\", 4:\"Viernes\", 5:\"Sábado\", 6:\"Domingo\"}\n",
    "fecha = \"Hoy \" + dia_semana[datetime.date.today().weekday()] +\" \"+ str(datetime.date.today().day) + \" de \" + mes[datetime.date.today().month] + \" del \" + str(datetime.date.today().year)\n",
    "\n",
    "print(\"Fecha actual:\", fecha)"
   ]
  },
  {
   "cell_type": "markdown",
   "metadata": {},
   "source": [
    "## Objeto DATETIME"
   ]
  },
  {
   "cell_type": "code",
   "execution_count": 44,
   "metadata": {},
   "outputs": [
    {
     "name": "stdout",
     "output_type": "stream",
     "text": [
      "Fecha y hora actual: 2018-05-31 10:45:58.579527\n",
      "Segundos actuales: 58\n",
      "Minutos actuales: 45\n",
      "Hora actual: 10\n",
      "Microsegundos actuales: 580029\n"
     ]
    }
   ],
   "source": [
    "# Fecha y hora actual\n",
    "print(\"Fecha y hora actual:\", datetime.datetime.now())\n",
    "# Segundos actuales\n",
    "print(\"Segundos actuales:\", datetime.datetime.now().second)\n",
    "# Minutos actuales\n",
    "print(\"Minutos actuales:\", datetime.datetime.now().minute)\n",
    "# Hora actual\n",
    "print(\"Hora actual:\", datetime.datetime.now().hour)\n",
    "# Microsegundos actuales\n",
    "print(\"Microsegundos actuales:\", datetime.datetime.now().microsecond)"
   ]
  },
  {
   "cell_type": "code",
   "execution_count": null,
   "metadata": {},
   "outputs": [],
   "source": [
    "# Fecha\n",
    "# %Y : año con 4 digitos\n",
    "# %m : mes con dos digitos\n",
    "# %d : día con dos digitos\n",
    "\n",
    "# Hora\n",
    "# %H : Hora con formato 24 horas y dos digitos\n",
    "# %M : Minutos actuales con dos digitos\n",
    "# %S : Segundos actuales con dos digitos"
   ]
  },
  {
   "cell_type": "code",
   "execution_count": 45,
   "metadata": {},
   "outputs": [
    {
     "name": "stdout",
     "output_type": "stream",
     "text": [
      " 31-05-2018\n"
     ]
    }
   ],
   "source": [
    "# Ejemplo\n",
    "print(\"\", datetime.datetime.now().strftime(\"%d-%m-%Y\"))"
   ]
  }
 ],
 "metadata": {
  "kernelspec": {
   "display_name": "Python 3",
   "language": "python",
   "name": "python3"
  },
  "language_info": {
   "codemirror_mode": {
    "name": "ipython",
    "version": 3
   },
   "file_extension": ".py",
   "mimetype": "text/x-python",
   "name": "python",
   "nbconvert_exporter": "python",
   "pygments_lexer": "ipython3",
   "version": "3.6.4"
  }
 },
 "nbformat": 4,
 "nbformat_minor": 2
}
